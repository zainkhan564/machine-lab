{
 "cells": [
  {
   "cell_type": "code",
   "execution_count": null,
   "id": "9084d940-81d2-4e1d-b1fc-80cec011a723",
   "metadata": {},
   "outputs": [],
   "source": [
    "import os, shutil\n",
    "original_dataset_dir = r'F:\\machine learning\\lab 2\\dataset\\plantvillage dataset\\color'\n",
    "base_dir = r'F:\\machine learning\\lab 2\\dataset\\computer_vision'"
   ]
  },
  {
   "cell_type": "code",
   "execution_count": null,
   "id": "15e94ee3-126d-4b0b-b522-eb82839d3b7d",
   "metadata": {},
   "outputs": [],
   "source": [
    "base_dir"
   ]
  },
  {
   "cell_type": "code",
   "execution_count": null,
   "id": "2b18d04f-2ef1-48dc-bce2-36afb0ca5353",
   "metadata": {},
   "outputs": [],
   "source": [
    "os.path.join(base_dir, 'train')"
   ]
  },
  {
   "cell_type": "code",
   "execution_count": null,
   "id": "fbd16094-812a-46d1-abee-07ff1c49e8b3",
   "metadata": {},
   "outputs": [],
   "source": [
    "os.mkdir(base_dir)\n",
    "train_dir = os.path.join(base_dir, 'train')\n",
    "os.mkdir(train_dir)\n",
    "validation_dir = os.path.join(base_dir, 'validation')\n",
    "os.mkdir(validation_dir)\n",
    "test_dir = os.path.join(base_dir, 'test')\n",
    "os.mkdir(test_dir)"
   ]
  },
  {
   "cell_type": "code",
   "execution_count": null,
   "id": "213a0cfd-38ff-4331-b2d3-7cfe97ec3eb6",
   "metadata": {},
   "outputs": [],
   "source": [
    "train_healthy_dir = os.path.join(train_dir, 'healthy')\n",
    "os.mkdir(train_healthy_dir)\n",
    "train_Cercospora_dir = os.path.join(train_dir, 'Cercospora')\n",
    "os.mkdir(train_Cercospora_dir)\n",
    "train_common_rust_dir = os.path.join(train_dir, 'common_rust')\n",
    "os.mkdir(train_common_rust_dir)\n",
    "train_northern_leaf_blight_dir = os.path.join(train_dir, 'northern_leaf_blight')\n",
    "os.mkdir(train_northern_leaf_blight_dir)\n",
    "\n",
    "validation_healthy_dir = os.path.join(validation_dir, 'healthy')\n",
    "os.mkdir(validation_healthy_dir)\n",
    "validation_Cercospora_dir = os.path.join(validation_dir, 'Cercospora')\n",
    "os.mkdir(validation_Cercospora_dir)\n",
    "validation_common_rust_dir = os.path.join(validation_dir, 'common_rust')\n",
    "os.mkdir(validation_common_rust_dir)\n",
    "validation_northern_leaf_blight_dir = os.path.join(validation_dir, 'northern_leaf_blight')\n",
    "os.mkdir(validation_northern_leaf_blight_dir)\n",
    "\n",
    "test_healthy_dir = os.path.join(test_dir, 'healthy')\n",
    "os.mkdir(test_healthy_dir)\n",
    "test_Cercospora_dir = os.path.join(test_dir, 'Cercospora')\n",
    "os.mkdir(test_Cercospora_dir)\n",
    "test_common_rust_dir = os.path.join(test_dir, 'common_rust')\n",
    "os.mkdir(test_common_rust_dir)\n",
    "test_northern_leaf_blight_dir = os.path.join(test_dir, 'northern_leaf_blight')\n",
    "os.mkdir(test_northern_leaf_blight_dir)"
   ]
  },
  {
   "cell_type": "code",
   "execution_count": null,
   "id": "2bf77e43-da87-4ada-949f-a77557302eac",
   "metadata": {},
   "outputs": [],
   "source": [
    "original_dataset_dir"
   ]
  },
  {
   "cell_type": "code",
   "execution_count": null,
   "id": "f88c7500-448d-4b96-bbf3-8687d7843dea",
   "metadata": {},
   "outputs": [],
   "source": [
    "src_healthy_path = os.path.join(original_dataset_dir, 'Corn_(maize)___healthy')"
   ]
  },
  {
   "cell_type": "code",
   "execution_count": null,
   "id": "212f459a-7db9-41c3-9443-aaaba5bbbe0f",
   "metadata": {},
   "outputs": [],
   "source": [
    "os.listdir(r'F:\\machine learning\\lab 2\\dataset\\checkpoint')"
   ]
  },
  {
   "cell_type": "code",
   "execution_count": null,
   "id": "eacb8d50-c837-4fe0-9381-545f657abeb2",
   "metadata": {},
   "outputs": [],
   "source": [
    "os.listdir(src_healthy_path)"
   ]
  },
  {
   "cell_type": "code",
   "execution_count": null,
   "id": "860bcaa5-b689-4efc-95c6-e37b6948143f",
   "metadata": {},
   "outputs": [],
   "source": [
    "['healthy.{}.jpg'.format(i) for i in range(400)]"
   ]
  },
  {
   "cell_type": "code",
   "execution_count": null,
   "id": "fec64d39-ee4e-4b36-bf1a-db2f34b9d41d",
   "metadata": {},
   "outputs": [],
   "source": [
    "[i for i in range(400)]"
   ]
  },
  {
   "cell_type": "code",
   "execution_count": null,
   "id": "b17a4dcc-2108-4ebc-afd3-0ca8fef3672a",
   "metadata": {},
   "outputs": [],
   "source": []
  },
  {
   "cell_type": "code",
   "execution_count": null,
   "id": "98e6a91d-eadb-4017-9248-3de944258cb7",
   "metadata": {},
   "outputs": [],
   "source": []
  },
  {
   "cell_type": "code",
   "execution_count": null,
   "id": "dd352d6e-3c19-424e-adab-365528933d4e",
   "metadata": {},
   "outputs": [],
   "source": [
    "src_healthy_path = os.path.join(original_dataset_dir, 'Corn_(maize)___healthy')\n",
    "src_list = os.listdir(src_healthy_path)\n",
    "fnames = ['healthy.{}.jpg'.format(i) for i in range(400)]\n",
    "for i in range(400):\n",
    "    src = os.path.join(src_healthy_path, src_list[i])\n",
    "    dst = os.path.join(train_healthy_dir, fnames[i])\n",
    "    shutil.copyfile(src, dst)"
   ]
  },
  {
   "cell_type": "code",
   "execution_count": null,
   "id": "d8a8e549-fd5f-4cd0-9dc2-6d1012b97fda",
   "metadata": {},
   "outputs": [],
   "source": [
    "src_healthy_path = os.path.join(original_dataset_dir, 'Corn_(maize)___healthy')\n",
    "src_list = os.listdir(src_healthy_path)\n",
    "fnames = ['healthy.{}.jpg'.format(i) for i in range(400)]\n",
    "for i in range(400):\n",
    "    src = os.path.join(src_healthy_path, src_list[i])\n",
    "    dst = os.path.join(train_healthy_dir, fnames[i])\n",
    "    shutil.copyfile(src, dst)\n",
    "\n",
    "src_Cercospora_path = os.path.join(original_dataset_dir, 'Corn_(maize)___Cercospora_leaf_spot Gray_leaf_spot')\n",
    "src_list = os.listdir(src_Cercospora_path)\n",
    "fnames = ['Cercospora.{}.jpg'.format(i) for i in range(400)]\n",
    "for i in range(400):\n",
    "    src = os.path.join(src_Cercospora_path, src_list[i])\n",
    "    dst = os.path.join(train_Cercospora_dir, fnames[i])\n",
    "    shutil.copyfile(src, dst)\n",
    "\n",
    "src_Common_rust_path = os.path.join(original_dataset_dir, 'Corn_(maize)___Common_rust_')\n",
    "src_list = os.listdir(src_Common_rust_path)\n",
    "fnames = ['common_rust.{}.jpg'.format(i) for i in range(400)]\n",
    "for i in range(400):\n",
    "    src = os.path.join(src_Common_rust_path, src_list[i])\n",
    "    dst = os.path.join(train_common_rust_dir, fnames[i])\n",
    "    shutil.copyfile(src, dst)\n",
    "\n",
    "src_Northern_Leaf_Blight_path = os.path.join(original_dataset_dir, 'Corn_(maize)___Northern_Leaf_Blight')\n",
    "src_list = os.listdir(src_Northern_Leaf_Blight_path)\n",
    "fnames = ['Northern_Leaf_Blight.{}.jpg'.format(i) for i in range(400)]\n",
    "for i in range(400):\n",
    "    src = os.path.join(src_Northern_Leaf_Blight_path, src_list[i])\n",
    "    dst = os.path.join(train_northern_leaf_blight_dir, fnames[i])\n",
    "    shutil.copyfile(src, dst)"
   ]
  },
  {
   "cell_type": "code",
   "execution_count": null,
   "id": "b64f27a5-d1fc-4b54-a072-b782ac45cb7a",
   "metadata": {},
   "outputs": [],
   "source": [
    "src_healthy_path = os.path.join(original_dataset_dir, 'Corn_(maize)___healthy')\n",
    "src_list = os.listdir(src_healthy_path)\n",
    "fnames = ['healthy.{}.jpg'.format(i) for i in range(63)]\n",
    "for i in range(400,463):\n",
    "    src = os.path.join(src_healthy_path, src_list[i])\n",
    "    dst = os.path.join(validation_healthy_dir, fnames[i-400])\n",
    "    shutil.copyfile(src, dst)\n",
    "\n",
    "src_Cercospora_path = os.path.join(original_dataset_dir, 'Corn_(maize)___Cercospora_leaf_spot Gray_leaf_spot')\n",
    "src_list = os.listdir(src_Cercospora_path)\n",
    "fnames = ['Cercospora.{}.jpg'.format(i) for i in range(63)]\n",
    "for i in range(400,463):\n",
    "    src = os.path.join(src_Cercospora_path, src_list[i])\n",
    "    dst = os.path.join(validation_Cercospora_dir, fnames[i-400])\n",
    "    shutil.copyfile(src, dst)\n",
    "\n",
    "src_Common_rust_path = os.path.join(original_dataset_dir, 'Corn_(maize)___Common_rust_')\n",
    "src_list = os.listdir(src_Common_rust_path)\n",
    "fnames = ['common_rust.{}.jpg'.format(i) for i in range(63)]\n",
    "for i in range(400,463):\n",
    "    src = os.path.join(src_Common_rust_path, src_list[i])\n",
    "    dst = os.path.join(validation_common_rust_dir, fnames[i-400])\n",
    "    shutil.copyfile(src, dst)\n",
    "\n",
    "src_Northern_Leaf_Blight_path = os.path.join(original_dataset_dir, 'Corn_(maize)___Northern_Leaf_Blight')\n",
    "src_list = os.listdir(src_Northern_Leaf_Blight_path)\n",
    "fnames = ['Northern_Leaf_Blight.{}.jpg'.format(i) for i in range(63)]\n",
    "for i in range(400,463):\n",
    "    src = os.path.join(src_Northern_Leaf_Blight_path, src_list[i])\n",
    "    dst = os.path.join(validation_northern_leaf_blight_dir, fnames[i-400])\n",
    "    shutil.copyfile(src, dst)"
   ]
  },
  {
   "cell_type": "markdown",
   "id": "c9bcc269-ddd4-45f5-8552-0c16c6b4edaf",
   "metadata": {},
   "source": [
    "# Test"
   ]
  },
  {
   "cell_type": "code",
   "execution_count": null,
   "id": "b1e4f44a-08c7-4557-a132-a51881f701e4",
   "metadata": {},
   "outputs": [],
   "source": [
    "src_healthy_path = os.path.join(original_dataset_dir, 'Corn_(maize)___healthy')\n",
    "src_list = os.listdir(src_healthy_path)\n",
    "fnames = ['healthy.{}.jpg'.format(i) for i in range(50)]\n",
    "for i in range(463,513):\n",
    "    src = os.path.join(src_healthy_path, src_list[i])\n",
    "    dst = os.path.join(test_healthy_dir, fnames[i-463])\n",
    "    shutil.copyfile(src, dst)\n",
    "\n",
    "src_Cercospora_path = os.path.join(original_dataset_dir, 'Corn_(maize)___Cercospora_leaf_spot Gray_leaf_spot')\n",
    "src_list = os.listdir(src_Cercospora_path)\n",
    "fnames = ['Cercospora.{}.jpg'.format(i) for i in range(50)]\n",
    "for i in range(463,513):\n",
    "    src = os.path.join(src_Cercospora_path, src_list[i])\n",
    "    dst = os.path.join(test_Cercospora_dir, fnames[i-463])\n",
    "    shutil.copyfile(src, dst)\n",
    "\n",
    "src_Common_rust_path = os.path.join(original_dataset_dir, 'Corn_(maize)___Common_rust_')\n",
    "src_list = os.listdir(src_Common_rust_path)\n",
    "fnames = ['common_rust.{}.jpg'.format(i) for i in range(50)]\n",
    "for i in range(463,513):\n",
    "    src = os.path.join(src_Common_rust_path, src_list[i])\n",
    "    dst = os.path.join(test_common_rust_dir, fnames[i-463])\n",
    "    shutil.copyfile(src, dst)\n",
    "\n",
    "src_Northern_Leaf_Blight_path = os.path.join(original_dataset_dir, 'Corn_(maize)___Northern_Leaf_Blight')\n",
    "src_list = os.listdir(src_Northern_Leaf_Blight_path)\n",
    "fnames = ['Northern_Leaf_Blight.{}.jpg'.format(i) for i in range(50)]\n",
    "for i in range(463,513):\n",
    "    src = os.path.join(src_Northern_Leaf_Blight_path, src_list[i])\n",
    "    dst = os.path.join(test_northern_leaf_blight_dir, fnames[i-463])\n",
    "    shutil.copyfile(src, dst)"
   ]
  },
  {
   "cell_type": "code",
   "execution_count": null,
   "id": "bf45f1b6-f85b-433f-8a34-ee97f11c75b9",
   "metadata": {},
   "outputs": [],
   "source": []
  },
  {
   "cell_type": "code",
   "execution_count": null,
   "id": "76c198ab-005a-4f5c-98b6-e51188d2dcd0",
   "metadata": {},
   "outputs": [],
   "source": []
  },
  {
   "cell_type": "code",
   "execution_count": null,
   "id": "eb3e97ff-5e2b-4ad0-af51-3815012dfaa4",
   "metadata": {},
   "outputs": [],
   "source": []
  },
  {
   "cell_type": "code",
   "execution_count": null,
   "id": "fdc8e780-0a4b-4930-9951-561c8aa57566",
   "metadata": {},
   "outputs": [],
   "source": []
  },
  {
   "cell_type": "code",
   "execution_count": null,
   "id": "90efb13e-9f1c-4d87-b1b8-8f4b9a9eade6",
   "metadata": {},
   "outputs": [],
   "source": []
  }
 ],
 "metadata": {
  "kernelspec": {
   "display_name": "Python [conda env:base] *",
   "language": "python",
   "name": "conda-base-py"
  },
  "language_info": {
   "codemirror_mode": {
    "name": "ipython",
    "version": 3
   },
   "file_extension": ".py",
   "mimetype": "text/x-python",
   "name": "python",
   "nbconvert_exporter": "python",
   "pygments_lexer": "ipython3",
   "version": "3.12.7"
  }
 },
 "nbformat": 4,
 "nbformat_minor": 5
}
